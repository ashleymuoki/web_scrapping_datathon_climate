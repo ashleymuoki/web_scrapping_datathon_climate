{
 "cells": [
  {
   "cell_type": "code",
   "execution_count": 1,
   "id": "b5260fe6",
   "metadata": {},
   "outputs": [],
   "source": [
    "import pandas as pd\n",
    "import numpy as np\n",
    "import seaborn as sns\n"
   ]
  },
  {
   "cell_type": "code",
   "execution_count": 2,
   "id": "feba8c67",
   "metadata": {},
   "outputs": [],
   "source": [
    "data = pd.read_csv(\"/home/ashleymuoki/Downloads/thegef_data(with_dates).csv\")"
   ]
  },
  {
   "cell_type": "code",
   "execution_count": null,
   "id": "f7e60efb",
   "metadata": {},
   "outputs": [],
   "source": [
    "# understanding the data"
   ]
  },
  {
   "cell_type": "code",
   "execution_count": 3,
   "id": "851d1070",
   "metadata": {},
   "outputs": [
    {
     "data": {
      "text/html": [
       "<div>\n",
       "<style scoped>\n",
       "    .dataframe tbody tr th:only-of-type {\n",
       "        vertical-align: middle;\n",
       "    }\n",
       "\n",
       "    .dataframe tbody tr th {\n",
       "        vertical-align: top;\n",
       "    }\n",
       "\n",
       "    .dataframe thead th {\n",
       "        text-align: right;\n",
       "    }\n",
       "</style>\n",
       "<table border=\"1\" class=\"dataframe\">\n",
       "  <thead>\n",
       "    <tr style=\"text-align: right;\">\n",
       "      <th></th>\n",
       "      <th>Title</th>\n",
       "      <th>Funding Institution</th>\n",
       "      <th>Implementing Institution</th>\n",
       "      <th>Country</th>\n",
       "      <th>Region</th>\n",
       "      <th>Status</th>\n",
       "      <th>Total Project Amount</th>\n",
       "      <th>Link to Project Documentation</th>\n",
       "      <th>Start Date</th>\n",
       "      <th>End Date</th>\n",
       "    </tr>\n",
       "  </thead>\n",
       "  <tbody>\n",
       "    <tr>\n",
       "      <th>0</th>\n",
       "      <td>Preparation of Belize’s First Biennial Transpa...</td>\n",
       "      <td>['GEF Trust Fund']</td>\n",
       "      <td>['United Nations Environment Programme']</td>\n",
       "      <td>['Belize']</td>\n",
       "      <td>['Latin America and Caribbean']</td>\n",
       "      <td>Project Approved</td>\n",
       "      <td>1233000</td>\n",
       "      <td>['https://publicpartnershipdata.azureedge.net/...</td>\n",
       "      <td>31 Aug 2023</td>\n",
       "      <td>NaN</td>\n",
       "    </tr>\n",
       "    <tr>\n",
       "      <th>1</th>\n",
       "      <td>Development of the Fourth National Communicati...</td>\n",
       "      <td>['GEF Trust Fund']</td>\n",
       "      <td>['United Nations Development Programme']</td>\n",
       "      <td>['Botswana']</td>\n",
       "      <td>['Africa']</td>\n",
       "      <td>Project Approved</td>\n",
       "      <td>1233000</td>\n",
       "      <td>['https://publicpartnershipdata.azureedge.net/...</td>\n",
       "      <td>14 Sep 2023</td>\n",
       "      <td>NaN</td>\n",
       "    </tr>\n",
       "    <tr>\n",
       "      <th>2</th>\n",
       "      <td>Elaboration of Combined Third National Communi...</td>\n",
       "      <td>['GEF Trust Fund']</td>\n",
       "      <td>['Food and Agriculture Organization']</td>\n",
       "      <td>['Venezuela']</td>\n",
       "      <td>['Latin America and Caribbean']</td>\n",
       "      <td>Project Approved</td>\n",
       "      <td>632190</td>\n",
       "      <td>['https://publicpartnershipdata.azureedge.net/...</td>\n",
       "      <td>27 Sep 2023</td>\n",
       "      <td>NaN</td>\n",
       "    </tr>\n",
       "    <tr>\n",
       "      <th>3</th>\n",
       "      <td>Tunisian First Biennial Transparency Report (B...</td>\n",
       "      <td>['GEF Trust Fund']</td>\n",
       "      <td>['United Nations Development Programme']</td>\n",
       "      <td>['Tunisia']</td>\n",
       "      <td>['Africa']</td>\n",
       "      <td>Project Approved</td>\n",
       "      <td>1233000</td>\n",
       "      <td>['https://publicpartnershipdata.azureedge.net/...</td>\n",
       "      <td>14 Sep 2023</td>\n",
       "      <td>NaN</td>\n",
       "    </tr>\n",
       "    <tr>\n",
       "      <th>4</th>\n",
       "      <td>Development of the First Biennial Transparency...</td>\n",
       "      <td>['GEF Trust Fund']</td>\n",
       "      <td>['United Nations Development Programme']</td>\n",
       "      <td>['Armenia']</td>\n",
       "      <td>['Europe and Central Asia']</td>\n",
       "      <td>Project Approved</td>\n",
       "      <td>1233000</td>\n",
       "      <td>['https://publicpartnershipdata.azureedge.net/...</td>\n",
       "      <td>31 Aug 2023</td>\n",
       "      <td>NaN</td>\n",
       "    </tr>\n",
       "  </tbody>\n",
       "</table>\n",
       "</div>"
      ],
      "text/plain": [
       "                                               Title Funding Institution  \\\n",
       "0  Preparation of Belize’s First Biennial Transpa...  ['GEF Trust Fund']   \n",
       "1  Development of the Fourth National Communicati...  ['GEF Trust Fund']   \n",
       "2  Elaboration of Combined Third National Communi...  ['GEF Trust Fund']   \n",
       "3  Tunisian First Biennial Transparency Report (B...  ['GEF Trust Fund']   \n",
       "4  Development of the First Biennial Transparency...  ['GEF Trust Fund']   \n",
       "\n",
       "                   Implementing Institution        Country  \\\n",
       "0  ['United Nations Environment Programme']     ['Belize']   \n",
       "1  ['United Nations Development Programme']   ['Botswana']   \n",
       "2     ['Food and Agriculture Organization']  ['Venezuela']   \n",
       "3  ['United Nations Development Programme']    ['Tunisia']   \n",
       "4  ['United Nations Development Programme']    ['Armenia']   \n",
       "\n",
       "                            Region            Status  Total Project Amount  \\\n",
       "0  ['Latin America and Caribbean']  Project Approved               1233000   \n",
       "1                       ['Africa']  Project Approved               1233000   \n",
       "2  ['Latin America and Caribbean']  Project Approved                632190   \n",
       "3                       ['Africa']  Project Approved               1233000   \n",
       "4      ['Europe and Central Asia']  Project Approved               1233000   \n",
       "\n",
       "                       Link to Project Documentation   Start Date End Date  \n",
       "0  ['https://publicpartnershipdata.azureedge.net/...  31 Aug 2023      NaN  \n",
       "1  ['https://publicpartnershipdata.azureedge.net/...  14 Sep 2023      NaN  \n",
       "2  ['https://publicpartnershipdata.azureedge.net/...  27 Sep 2023      NaN  \n",
       "3  ['https://publicpartnershipdata.azureedge.net/...  14 Sep 2023      NaN  \n",
       "4  ['https://publicpartnershipdata.azureedge.net/...  31 Aug 2023      NaN  "
      ]
     },
     "execution_count": 3,
     "metadata": {},
     "output_type": "execute_result"
    }
   ],
   "source": [
    "data.head()"
   ]
  },
  {
   "cell_type": "code",
   "execution_count": 4,
   "id": "ecf44f75",
   "metadata": {},
   "outputs": [
    {
     "data": {
      "text/html": [
       "<div>\n",
       "<style scoped>\n",
       "    .dataframe tbody tr th:only-of-type {\n",
       "        vertical-align: middle;\n",
       "    }\n",
       "\n",
       "    .dataframe tbody tr th {\n",
       "        vertical-align: top;\n",
       "    }\n",
       "\n",
       "    .dataframe thead th {\n",
       "        text-align: right;\n",
       "    }\n",
       "</style>\n",
       "<table border=\"1\" class=\"dataframe\">\n",
       "  <thead>\n",
       "    <tr style=\"text-align: right;\">\n",
       "      <th></th>\n",
       "      <th>Title</th>\n",
       "      <th>Funding Institution</th>\n",
       "      <th>Implementing Institution</th>\n",
       "      <th>Country</th>\n",
       "      <th>Region</th>\n",
       "      <th>Status</th>\n",
       "      <th>Total Project Amount</th>\n",
       "      <th>Link to Project Documentation</th>\n",
       "      <th>Start Date</th>\n",
       "      <th>End Date</th>\n",
       "    </tr>\n",
       "  </thead>\n",
       "  <tbody>\n",
       "    <tr>\n",
       "      <th>2129</th>\n",
       "      <td>Szombathely CHP/Biomass Project</td>\n",
       "      <td>['GEF Trust Fund']</td>\n",
       "      <td>['The World Bank']</td>\n",
       "      <td>['Hungary']</td>\n",
       "      <td>['Europe and Central Asia']</td>\n",
       "      <td>Cancelled</td>\n",
       "      <td>28000000</td>\n",
       "      <td>['https://publicpartnershipdata.azureedge.net/...</td>\n",
       "      <td>NaN</td>\n",
       "      <td>05 Feb 2008</td>\n",
       "    </tr>\n",
       "    <tr>\n",
       "      <th>2130</th>\n",
       "      <td>Hydrogen Fuel Cell Buses for Urban Transport</td>\n",
       "      <td>['GEF Trust Fund']</td>\n",
       "      <td>['United Nations Development Programme']</td>\n",
       "      <td>['Brazil']</td>\n",
       "      <td>['Latin America and Caribbean']</td>\n",
       "      <td>Completed</td>\n",
       "      <td>21443000</td>\n",
       "      <td>['https://publicpartnershipdata.azureedge.net/...</td>\n",
       "      <td>20 Dec 2000</td>\n",
       "      <td>07 Dec 2018</td>\n",
       "    </tr>\n",
       "    <tr>\n",
       "      <th>2131</th>\n",
       "      <td>Biomass Energy for Rural India</td>\n",
       "      <td>['GEF Trust Fund']</td>\n",
       "      <td>['United Nations Development Programme']</td>\n",
       "      <td>['India']</td>\n",
       "      <td>['Asia']</td>\n",
       "      <td>Completed</td>\n",
       "      <td>8623000</td>\n",
       "      <td>['https://publicpartnershipdata.azureedge.net/...</td>\n",
       "      <td>21 Feb 2001</td>\n",
       "      <td>17 Feb 2015</td>\n",
       "    </tr>\n",
       "    <tr>\n",
       "      <th>2132</th>\n",
       "      <td>Second Beijing Environment Project</td>\n",
       "      <td>['GEF Trust Fund']</td>\n",
       "      <td>['The World Bank']</td>\n",
       "      <td>['China']</td>\n",
       "      <td>['Asia']</td>\n",
       "      <td>Completed</td>\n",
       "      <td>1255000000</td>\n",
       "      <td>['https://publicpartnershipdata.azureedge.net/...</td>\n",
       "      <td>31 May 2000</td>\n",
       "      <td>28 Jul 2011</td>\n",
       "    </tr>\n",
       "    <tr>\n",
       "      <th>2133</th>\n",
       "      <td>Capacity Building for the Adoption and Applica...</td>\n",
       "      <td>['GEF Trust Fund']</td>\n",
       "      <td>['United Nations Development Programme']</td>\n",
       "      <td>['Regional']</td>\n",
       "      <td>['Regional']</td>\n",
       "      <td>Completed</td>\n",
       "      <td>1249000</td>\n",
       "      <td>['https://publicpartnershipdata.azureedge.net/...</td>\n",
       "      <td>24 Jan 2001</td>\n",
       "      <td>12 Dec 2011</td>\n",
       "    </tr>\n",
       "  </tbody>\n",
       "</table>\n",
       "</div>"
      ],
      "text/plain": [
       "                                                  Title Funding Institution  \\\n",
       "2129                    Szombathely CHP/Biomass Project  ['GEF Trust Fund']   \n",
       "2130       Hydrogen Fuel Cell Buses for Urban Transport  ['GEF Trust Fund']   \n",
       "2131                     Biomass Energy for Rural India  ['GEF Trust Fund']   \n",
       "2132                 Second Beijing Environment Project  ['GEF Trust Fund']   \n",
       "2133  Capacity Building for the Adoption and Applica...  ['GEF Trust Fund']   \n",
       "\n",
       "                      Implementing Institution       Country  \\\n",
       "2129                        ['The World Bank']   ['Hungary']   \n",
       "2130  ['United Nations Development Programme']    ['Brazil']   \n",
       "2131  ['United Nations Development Programme']     ['India']   \n",
       "2132                        ['The World Bank']     ['China']   \n",
       "2133  ['United Nations Development Programme']  ['Regional']   \n",
       "\n",
       "                               Region     Status  Total Project Amount  \\\n",
       "2129      ['Europe and Central Asia']  Cancelled              28000000   \n",
       "2130  ['Latin America and Caribbean']  Completed              21443000   \n",
       "2131                         ['Asia']  Completed               8623000   \n",
       "2132                         ['Asia']  Completed            1255000000   \n",
       "2133                     ['Regional']  Completed               1249000   \n",
       "\n",
       "                          Link to Project Documentation   Start Date  \\\n",
       "2129  ['https://publicpartnershipdata.azureedge.net/...          NaN   \n",
       "2130  ['https://publicpartnershipdata.azureedge.net/...  20 Dec 2000   \n",
       "2131  ['https://publicpartnershipdata.azureedge.net/...  21 Feb 2001   \n",
       "2132  ['https://publicpartnershipdata.azureedge.net/...  31 May 2000   \n",
       "2133  ['https://publicpartnershipdata.azureedge.net/...  24 Jan 2001   \n",
       "\n",
       "         End Date  \n",
       "2129  05 Feb 2008  \n",
       "2130  07 Dec 2018  \n",
       "2131  17 Feb 2015  \n",
       "2132  28 Jul 2011  \n",
       "2133  12 Dec 2011  "
      ]
     },
     "execution_count": 4,
     "metadata": {},
     "output_type": "execute_result"
    }
   ],
   "source": [
    "data.tail()"
   ]
  },
  {
   "cell_type": "code",
   "execution_count": 5,
   "id": "6f90ff6c",
   "metadata": {},
   "outputs": [
    {
     "data": {
      "text/plain": [
       "(2134, 10)"
      ]
     },
     "execution_count": 5,
     "metadata": {},
     "output_type": "execute_result"
    }
   ],
   "source": [
    "data.shape"
   ]
  },
  {
   "cell_type": "code",
   "execution_count": 6,
   "id": "000a377c",
   "metadata": {},
   "outputs": [
    {
     "data": {
      "text/html": [
       "<div>\n",
       "<style scoped>\n",
       "    .dataframe tbody tr th:only-of-type {\n",
       "        vertical-align: middle;\n",
       "    }\n",
       "\n",
       "    .dataframe tbody tr th {\n",
       "        vertical-align: top;\n",
       "    }\n",
       "\n",
       "    .dataframe thead th {\n",
       "        text-align: right;\n",
       "    }\n",
       "</style>\n",
       "<table border=\"1\" class=\"dataframe\">\n",
       "  <thead>\n",
       "    <tr style=\"text-align: right;\">\n",
       "      <th></th>\n",
       "      <th>Total Project Amount</th>\n",
       "    </tr>\n",
       "  </thead>\n",
       "  <tbody>\n",
       "    <tr>\n",
       "      <th>count</th>\n",
       "      <td>2.134000e+03</td>\n",
       "    </tr>\n",
       "    <tr>\n",
       "      <th>mean</th>\n",
       "      <td>4.555798e+07</td>\n",
       "    </tr>\n",
       "    <tr>\n",
       "      <th>std</th>\n",
       "      <td>1.337879e+08</td>\n",
       "    </tr>\n",
       "    <tr>\n",
       "      <th>min</th>\n",
       "      <td>4.800000e+04</td>\n",
       "    </tr>\n",
       "    <tr>\n",
       "      <th>25%</th>\n",
       "      <td>2.465625e+06</td>\n",
       "    </tr>\n",
       "    <tr>\n",
       "      <th>50%</th>\n",
       "      <td>1.445869e+07</td>\n",
       "    </tr>\n",
       "    <tr>\n",
       "      <th>75%</th>\n",
       "      <td>3.797324e+07</td>\n",
       "    </tr>\n",
       "    <tr>\n",
       "      <th>max</th>\n",
       "      <td>3.040516e+09</td>\n",
       "    </tr>\n",
       "  </tbody>\n",
       "</table>\n",
       "</div>"
      ],
      "text/plain": [
       "       Total Project Amount\n",
       "count          2.134000e+03\n",
       "mean           4.555798e+07\n",
       "std            1.337879e+08\n",
       "min            4.800000e+04\n",
       "25%            2.465625e+06\n",
       "50%            1.445869e+07\n",
       "75%            3.797324e+07\n",
       "max            3.040516e+09"
      ]
     },
     "execution_count": 6,
     "metadata": {},
     "output_type": "execute_result"
    }
   ],
   "source": [
    "data.describe()"
   ]
  },
  {
   "cell_type": "code",
   "execution_count": 8,
   "id": "9f0abb13",
   "metadata": {},
   "outputs": [
    {
     "data": {
      "text/plain": [
       "Index(['Title', 'Funding Institution', 'Implementing Institution', 'Country',\n",
       "       'Region', 'Status', 'Total Project Amount',\n",
       "       'Link to Project Documentation', 'Start Date', 'End Date'],\n",
       "      dtype='object')"
      ]
     },
     "execution_count": 8,
     "metadata": {},
     "output_type": "execute_result"
    }
   ],
   "source": [
    "#check the columns\n",
    "data.columns"
   ]
  },
  {
   "cell_type": "code",
   "execution_count": 9,
   "id": "e6f05478",
   "metadata": {},
   "outputs": [
    {
     "data": {
      "text/plain": [
       "Title                            2001\n",
       "Funding Institution                 5\n",
       "Implementing Institution           65\n",
       "Country                           162\n",
       "Region                              7\n",
       "Status                              5\n",
       "Total Project Amount             1893\n",
       "Link to Project Documentation    2133\n",
       "Start Date                       1328\n",
       "End Date                          826\n",
       "dtype: int64"
      ]
     },
     "execution_count": 9,
     "metadata": {},
     "output_type": "execute_result"
    }
   ],
   "source": [
    "#check for unique values\n",
    "data.nunique()"
   ]
  },
  {
   "cell_type": "code",
   "execution_count": 13,
   "id": "ab265dd0",
   "metadata": {},
   "outputs": [
    {
     "data": {
      "text/plain": [
       "array([\"['GEF Trust Fund']\", \"['Multi Trust Fund']\",\n",
       "       \"['Least Developed Countries Fund']\",\n",
       "       \"['Special Climate Change Fund']\", \"['CBIT Trust Fund']\"],\n",
       "      dtype=object)"
      ]
     },
     "execution_count": 13,
     "metadata": {},
     "output_type": "execute_result"
    }
   ],
   "source": [
    "#check for a column\n",
    "data['Funding Institution'].unique()"
   ]
  },
  {
   "cell_type": "code",
   "execution_count": 15,
   "id": "f5ca4321",
   "metadata": {},
   "outputs": [
    {
     "data": {
      "text/plain": [
       "Title                               0\n",
       "Funding Institution                 0\n",
       "Implementing Institution            0\n",
       "Country                             0\n",
       "Region                              0\n",
       "Status                              0\n",
       "Total Project Amount                0\n",
       "Link to Project Documentation       0\n",
       "Start Date                        149\n",
       "End Date                         1056\n",
       "dtype: int64"
      ]
     },
     "execution_count": 15,
     "metadata": {},
     "output_type": "execute_result"
    }
   ],
   "source": [
    "#cleaning the data\n",
    "#check for null values\n",
    "data.isnull().sum()"
   ]
  },
  {
   "cell_type": "code",
   "execution_count": 17,
   "id": "2945aaa0",
   "metadata": {},
   "outputs": [],
   "source": [
    "student = data.drop(['Start Date', 'End Date'], axis=1)"
   ]
  },
  {
   "cell_type": "code",
   "execution_count": 18,
   "id": "d0bf64e1",
   "metadata": {},
   "outputs": [
    {
     "data": {
      "text/html": [
       "<div>\n",
       "<style scoped>\n",
       "    .dataframe tbody tr th:only-of-type {\n",
       "        vertical-align: middle;\n",
       "    }\n",
       "\n",
       "    .dataframe tbody tr th {\n",
       "        vertical-align: top;\n",
       "    }\n",
       "\n",
       "    .dataframe thead th {\n",
       "        text-align: right;\n",
       "    }\n",
       "</style>\n",
       "<table border=\"1\" class=\"dataframe\">\n",
       "  <thead>\n",
       "    <tr style=\"text-align: right;\">\n",
       "      <th></th>\n",
       "      <th>Title</th>\n",
       "      <th>Funding Institution</th>\n",
       "      <th>Implementing Institution</th>\n",
       "      <th>Country</th>\n",
       "      <th>Region</th>\n",
       "      <th>Status</th>\n",
       "      <th>Total Project Amount</th>\n",
       "      <th>Link to Project Documentation</th>\n",
       "    </tr>\n",
       "  </thead>\n",
       "  <tbody>\n",
       "    <tr>\n",
       "      <th>0</th>\n",
       "      <td>Preparation of Belize’s First Biennial Transpa...</td>\n",
       "      <td>['GEF Trust Fund']</td>\n",
       "      <td>['United Nations Environment Programme']</td>\n",
       "      <td>['Belize']</td>\n",
       "      <td>['Latin America and Caribbean']</td>\n",
       "      <td>Project Approved</td>\n",
       "      <td>1233000</td>\n",
       "      <td>['https://publicpartnershipdata.azureedge.net/...</td>\n",
       "    </tr>\n",
       "    <tr>\n",
       "      <th>1</th>\n",
       "      <td>Development of the Fourth National Communicati...</td>\n",
       "      <td>['GEF Trust Fund']</td>\n",
       "      <td>['United Nations Development Programme']</td>\n",
       "      <td>['Botswana']</td>\n",
       "      <td>['Africa']</td>\n",
       "      <td>Project Approved</td>\n",
       "      <td>1233000</td>\n",
       "      <td>['https://publicpartnershipdata.azureedge.net/...</td>\n",
       "    </tr>\n",
       "    <tr>\n",
       "      <th>2</th>\n",
       "      <td>Elaboration of Combined Third National Communi...</td>\n",
       "      <td>['GEF Trust Fund']</td>\n",
       "      <td>['Food and Agriculture Organization']</td>\n",
       "      <td>['Venezuela']</td>\n",
       "      <td>['Latin America and Caribbean']</td>\n",
       "      <td>Project Approved</td>\n",
       "      <td>632190</td>\n",
       "      <td>['https://publicpartnershipdata.azureedge.net/...</td>\n",
       "    </tr>\n",
       "    <tr>\n",
       "      <th>3</th>\n",
       "      <td>Tunisian First Biennial Transparency Report (B...</td>\n",
       "      <td>['GEF Trust Fund']</td>\n",
       "      <td>['United Nations Development Programme']</td>\n",
       "      <td>['Tunisia']</td>\n",
       "      <td>['Africa']</td>\n",
       "      <td>Project Approved</td>\n",
       "      <td>1233000</td>\n",
       "      <td>['https://publicpartnershipdata.azureedge.net/...</td>\n",
       "    </tr>\n",
       "    <tr>\n",
       "      <th>4</th>\n",
       "      <td>Development of the First Biennial Transparency...</td>\n",
       "      <td>['GEF Trust Fund']</td>\n",
       "      <td>['United Nations Development Programme']</td>\n",
       "      <td>['Armenia']</td>\n",
       "      <td>['Europe and Central Asia']</td>\n",
       "      <td>Project Approved</td>\n",
       "      <td>1233000</td>\n",
       "      <td>['https://publicpartnershipdata.azureedge.net/...</td>\n",
       "    </tr>\n",
       "  </tbody>\n",
       "</table>\n",
       "</div>"
      ],
      "text/plain": [
       "                                               Title Funding Institution  \\\n",
       "0  Preparation of Belize’s First Biennial Transpa...  ['GEF Trust Fund']   \n",
       "1  Development of the Fourth National Communicati...  ['GEF Trust Fund']   \n",
       "2  Elaboration of Combined Third National Communi...  ['GEF Trust Fund']   \n",
       "3  Tunisian First Biennial Transparency Report (B...  ['GEF Trust Fund']   \n",
       "4  Development of the First Biennial Transparency...  ['GEF Trust Fund']   \n",
       "\n",
       "                   Implementing Institution        Country  \\\n",
       "0  ['United Nations Environment Programme']     ['Belize']   \n",
       "1  ['United Nations Development Programme']   ['Botswana']   \n",
       "2     ['Food and Agriculture Organization']  ['Venezuela']   \n",
       "3  ['United Nations Development Programme']    ['Tunisia']   \n",
       "4  ['United Nations Development Programme']    ['Armenia']   \n",
       "\n",
       "                            Region            Status  Total Project Amount  \\\n",
       "0  ['Latin America and Caribbean']  Project Approved               1233000   \n",
       "1                       ['Africa']  Project Approved               1233000   \n",
       "2  ['Latin America and Caribbean']  Project Approved                632190   \n",
       "3                       ['Africa']  Project Approved               1233000   \n",
       "4      ['Europe and Central Asia']  Project Approved               1233000   \n",
       "\n",
       "                       Link to Project Documentation  \n",
       "0  ['https://publicpartnershipdata.azureedge.net/...  \n",
       "1  ['https://publicpartnershipdata.azureedge.net/...  \n",
       "2  ['https://publicpartnershipdata.azureedge.net/...  \n",
       "3  ['https://publicpartnershipdata.azureedge.net/...  \n",
       "4  ['https://publicpartnershipdata.azureedge.net/...  "
      ]
     },
     "execution_count": 18,
     "metadata": {},
     "output_type": "execute_result"
    }
   ],
   "source": [
    "student.head()"
   ]
  },
  {
   "cell_type": "code",
   "execution_count": null,
   "id": "e36802f0",
   "metadata": {},
   "outputs": [],
   "source": []
  }
 ],
 "metadata": {
  "kernelspec": {
   "display_name": "Python 3 (ipykernel)",
   "language": "python",
   "name": "python3"
  },
  "language_info": {
   "codemirror_mode": {
    "name": "ipython",
    "version": 3
   },
   "file_extension": ".py",
   "mimetype": "text/x-python",
   "name": "python",
   "nbconvert_exporter": "python",
   "pygments_lexer": "ipython3",
   "version": "3.11.4"
  }
 },
 "nbformat": 4,
 "nbformat_minor": 5
}
